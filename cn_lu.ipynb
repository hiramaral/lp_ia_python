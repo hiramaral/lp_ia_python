{
  "nbformat": 4,
  "nbformat_minor": 0,
  "metadata": {
    "kernelspec": {
      "display_name": "Python 3",
      "language": "python",
      "name": "python3"
    },
    "language_info": {
      "codemirror_mode": {
        "name": "ipython",
        "version": 3
      },
      "file_extension": ".py",
      "mimetype": "text/x-python",
      "name": "python",
      "nbconvert_exporter": "python",
      "pygments_lexer": "ipython3",
      "version": "3.6.2"
    },
    "colab": {
      "name": "cn_lu.ipynb",
      "provenance": [],
      "collapsed_sections": [],
      "include_colab_link": true
    }
  },
  "cells": [
    {
      "cell_type": "markdown",
      "metadata": {
        "id": "view-in-github",
        "colab_type": "text"
      },
      "source": [
        "<a href=\"https://colab.research.google.com/github/hiramaral/lp_ia_python/blob/main/cn_lu.ipynb\" target=\"_parent\"><img src=\"https://colab.research.google.com/assets/colab-badge.svg\" alt=\"Open In Colab\"/></a>"
      ]
    },
    {
      "cell_type": "code",
      "metadata": {
        "id": "CIa8o74UGZbJ"
      },
      "source": [
        "def substituicoes_sucessivas(A, b):\n",
        "    '''Executa o método das substituições sucessivas para resolver o sistema \n",
        "       linear triangular inferior Ax=b.\n",
        "       Parâmetros de entrada: A é uma matriz triangular inferior e b é o vetor constante. \n",
        "       Saída: vetor x\n",
        "    '''\n",
        "    ## n é a ordem da matriz A\n",
        "    n = len(A)\n",
        "    \n",
        "    x = n * [0]\n",
        "    # escreva o código aqui\n",
        "    \n",
        "    return x"
      ],
      "execution_count": null,
      "outputs": []
    },
    {
      "cell_type": "code",
      "metadata": {
        "id": "crs49hN3GZbR"
      },
      "source": [
        "def identidade(n):\n",
        "    '''Cria uma matriz identidade de ordem n.\n",
        "    Parâmetros de entrada:  n é a ordem da matriz.\n",
        "    Saída: matriz identidade de ordem n.\n",
        "    '''\n",
        "    # Escreva o seu código aqui"
      ],
      "execution_count": null,
      "outputs": []
    },
    {
      "cell_type": "code",
      "metadata": {
        "id": "vLiL9gm8GZbU"
      },
      "source": [
        "def lu(A):\n",
        "    '''\n",
        "    Decompõe a matriz A no produto de duas matrizes L e U. Onde L é uma matriz \n",
        "    triangular inferior unitária e U é uma matriz triangular superior.\n",
        "    Parâmetros de entrada: A é uma matriz quadrada de ordem n.\n",
        "    Saída: (L,U) tupla com as matrizes L e U\n",
        "    '''\n",
        "    n = len(A)\n",
        "    \n",
        "    ## Inicializa a matriz L com a matriz identidade\n",
        "    L = identidade(n)\n",
        "    \n",
        "    # Escreva o seu código aqui\n",
        "    \n",
        "    return (L, A)"
      ],
      "execution_count": null,
      "outputs": []
    },
    {
      "cell_type": "markdown",
      "metadata": {
        "id": "dScdUcq8GZbW"
      },
      "source": [
        "Vamos testar a função com o seguinte exemplo:"
      ]
    },
    {
      "cell_type": "code",
      "metadata": {
        "id": "iJeg2L3hGZbW",
        "colab": {
          "base_uri": "https://localhost:8080/",
          "height": 353
        },
        "outputId": "725714e6-6fe9-443b-832e-a23ba3977e59"
      },
      "source": [
        "def formata_matriz(M):\n",
        "    m = len(M) # número de linhas\n",
        "    n = len(M[0]) # número de colunas\n",
        "    s = \"\"\n",
        "    for i in range(m):\n",
        "        for j in range(n):\n",
        "           s += \"%9.3f \" % M[i][j]\n",
        "        s += \"\\n\"\n",
        "    return s\n",
        "\n",
        "A = [[1, -3, 2],\n",
        "     [-2, 8, -1],\n",
        "     [4, -6, 5]]\n",
        "(L, U) = lu(A)\n",
        "print(\"L: \\n%s\" % formata_matriz(L))\n",
        "print(\"U: \\n%s\" % formata_matriz(U))"
      ],
      "execution_count": null,
      "outputs": [
        {
          "output_type": "error",
          "ename": "TypeError",
          "evalue": "ignored",
          "traceback": [
            "\u001b[0;31m---------------------------------------------------------------------------\u001b[0m",
            "\u001b[0;31mTypeError\u001b[0m                                 Traceback (most recent call last)",
            "\u001b[0;32m<ipython-input-4-ca57110646fd>\u001b[0m in \u001b[0;36m<module>\u001b[0;34m()\u001b[0m\n\u001b[1;32m     13\u001b[0m      [4, -6, 5]]\n\u001b[1;32m     14\u001b[0m \u001b[0;34m(\u001b[0m\u001b[0mL\u001b[0m\u001b[0;34m,\u001b[0m \u001b[0mU\u001b[0m\u001b[0;34m)\u001b[0m \u001b[0;34m=\u001b[0m \u001b[0mlu\u001b[0m\u001b[0;34m(\u001b[0m\u001b[0mA\u001b[0m\u001b[0;34m)\u001b[0m\u001b[0;34m\u001b[0m\u001b[0;34m\u001b[0m\u001b[0m\n\u001b[0;32m---> 15\u001b[0;31m \u001b[0mprint\u001b[0m\u001b[0;34m(\u001b[0m\u001b[0;34m\"L: \\n%s\"\u001b[0m \u001b[0;34m%\u001b[0m \u001b[0mformata_matriz\u001b[0m\u001b[0;34m(\u001b[0m\u001b[0mL\u001b[0m\u001b[0;34m)\u001b[0m\u001b[0;34m)\u001b[0m\u001b[0;34m\u001b[0m\u001b[0;34m\u001b[0m\u001b[0m\n\u001b[0m\u001b[1;32m     16\u001b[0m \u001b[0mprint\u001b[0m\u001b[0;34m(\u001b[0m\u001b[0;34m\"U: \\n%s\"\u001b[0m \u001b[0;34m%\u001b[0m \u001b[0mformata_matriz\u001b[0m\u001b[0;34m(\u001b[0m\u001b[0mU\u001b[0m\u001b[0;34m)\u001b[0m\u001b[0;34m)\u001b[0m\u001b[0;34m\u001b[0m\u001b[0;34m\u001b[0m\u001b[0m\n",
            "\u001b[0;32m<ipython-input-4-ca57110646fd>\u001b[0m in \u001b[0;36mformata_matriz\u001b[0;34m(M)\u001b[0m\n\u001b[1;32m      1\u001b[0m \u001b[0;32mdef\u001b[0m \u001b[0mformata_matriz\u001b[0m\u001b[0;34m(\u001b[0m\u001b[0mM\u001b[0m\u001b[0;34m)\u001b[0m\u001b[0;34m:\u001b[0m\u001b[0;34m\u001b[0m\u001b[0;34m\u001b[0m\u001b[0m\n\u001b[0;32m----> 2\u001b[0;31m     \u001b[0mm\u001b[0m \u001b[0;34m=\u001b[0m \u001b[0mlen\u001b[0m\u001b[0;34m(\u001b[0m\u001b[0mM\u001b[0m\u001b[0;34m)\u001b[0m \u001b[0;31m# número de linhas\u001b[0m\u001b[0;34m\u001b[0m\u001b[0;34m\u001b[0m\u001b[0m\n\u001b[0m\u001b[1;32m      3\u001b[0m     \u001b[0mn\u001b[0m \u001b[0;34m=\u001b[0m \u001b[0mlen\u001b[0m\u001b[0;34m(\u001b[0m\u001b[0mM\u001b[0m\u001b[0;34m[\u001b[0m\u001b[0;36m0\u001b[0m\u001b[0;34m]\u001b[0m\u001b[0;34m)\u001b[0m \u001b[0;31m# número de colunas\u001b[0m\u001b[0;34m\u001b[0m\u001b[0;34m\u001b[0m\u001b[0m\n\u001b[1;32m      4\u001b[0m     \u001b[0ms\u001b[0m \u001b[0;34m=\u001b[0m \u001b[0;34m\"\"\u001b[0m\u001b[0;34m\u001b[0m\u001b[0;34m\u001b[0m\u001b[0m\n\u001b[1;32m      5\u001b[0m     \u001b[0;32mfor\u001b[0m \u001b[0mi\u001b[0m \u001b[0;32min\u001b[0m \u001b[0mrange\u001b[0m\u001b[0;34m(\u001b[0m\u001b[0mm\u001b[0m\u001b[0;34m)\u001b[0m\u001b[0;34m:\u001b[0m\u001b[0;34m\u001b[0m\u001b[0;34m\u001b[0m\u001b[0m\n",
            "\u001b[0;31mTypeError\u001b[0m: object of type 'NoneType' has no len()"
          ]
        }
      ]
    },
    {
      "cell_type": "markdown",
      "metadata": {
        "id": "pIY9b8EKGZbb"
      },
      "source": [
        "Se estiver tudo ok, ao executar a célula acima, você deve ver a resposta:\n",
        "```\n",
        "L: \n",
        "    1.000     0.000     0.000 \n",
        "   -2.000     1.000     0.000 \n",
        "    4.000     3.000     1.000 \n",
        "\n",
        "U: \n",
        "    1.000    -3.000     2.000 \n",
        "    0.000     2.000     3.000 \n",
        "    0.000     0.000   -12.000\n",
        "```"
      ]
    },
    {
      "cell_type": "code",
      "metadata": {
        "id": "AL1q0fozGZbb"
      },
      "source": [
        "def substituicoes_retroativas(A, b):\n",
        "    '''Executa o método das substituições retroativas para resolver o sistema \n",
        "       linear triangular superior Ax=b.\n",
        "       Parâmetros de entrada: A é uma matriz triangular superior e b é o vetor constante. \n",
        "    '''\n",
        "    ## n é a ordem da matriz A\n",
        "    n = len(A)\n",
        "    \n",
        "    ## inicializa o vetor x com tamanho n e elementos iguais a 0\n",
        "    x = n * [0] \n",
        "    \n",
        "    # escreva o seu código aqui\n",
        "    \n",
        "    return x"
      ],
      "execution_count": null,
      "outputs": []
    },
    {
      "cell_type": "code",
      "metadata": {
        "id": "VZi3vEmLKOHq"
      },
      "source": [
        "def lux(L,U,b):\n",
        "    '''\n",
        "    Resolve o sistema LUx=b.\n",
        "    Esse método resolve os dois sistemas lineares triangulares.\n",
        "    Parâmetros de entrada: L é uma matriz triangular inferior de ordem n,\n",
        "    U é uma matriz triangular superior e b é o vetor constante.\n",
        "    Saída: vetor x solução do sistema.\n",
        "    '''\n",
        "    \n",
        "    # Escreva o seu código aqui\n",
        "    \n",
        "    return x"
      ],
      "execution_count": null,
      "outputs": []
    },
    {
      "cell_type": "markdown",
      "metadata": {
        "id": "GuTbkZK2GZbd"
      },
      "source": [
        "Vamos testar a função com o seguinte exemplo:"
      ]
    },
    {
      "cell_type": "code",
      "metadata": {
        "id": "SB5WN5fnGZbd"
      },
      "source": [
        "A = [[1, -3, 2],\n",
        "     [-2, 8, -1],\n",
        "     [4, -6, 5]]\n",
        "b = [11, -15, 29]\n",
        "(L, U) = lu(A)\n",
        "x = lux(L, U, b)\n",
        "print(x)"
      ],
      "execution_count": null,
      "outputs": []
    },
    {
      "cell_type": "markdown",
      "metadata": {
        "id": "Nx3FSeWsIvOX"
      },
      "source": [
        "Se tudo deu certo, você deve obter a seguinte resposta:\n",
        "\n",
        "```\n",
        "[2.0, -1.0, 3.0]\n",
        "\n",
        "```\n",
        "\n"
      ]
    },
    {
      "cell_type": "markdown",
      "metadata": {
        "id": "3YbPwPHnGZbf"
      },
      "source": [
        "## Exercício\n",
        "\n",
        "Resolva o sistema linear abaixo usando decomposição LU.\n",
        "\n",
        "$\\left[\\begin{array}{rrr}\n",
        "1& 2 & 4\\\\\n",
        "2& 0 & 2\\\\\n",
        "4& 1 & 3\\\\\n",
        "\\end{array}\\right] \\left[\\begin{array}{c}\n",
        "x_1\\\\\n",
        "x_2\\\\\n",
        "x_3\\\\\n",
        "\\end{array}\\right] = \\left[\\begin{array}{r}\n",
        "13\\\\\n",
        "12\\\\\n",
        "25\\\\\n",
        "\\end{array}\\right] $\n"
      ]
    },
    {
      "cell_type": "code",
      "metadata": {
        "id": "XwqNIX38GZbg"
      },
      "source": [
        "## Defina a matriz A e resolva o sistema pela fatoração LU\n",
        "\n",
        "# Escreva o seu código aqui\n"
      ],
      "execution_count": null,
      "outputs": []
    }
  ]
}